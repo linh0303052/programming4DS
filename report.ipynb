{
 "cells": [
  {
   "cell_type": "markdown",
   "id": "c2cd37c7",
   "metadata": {},
   "source": [
    "# Báo cáo đồ án môn \"Lập trình cho khoa học dữ liệu\"\n",
    "\n",
    "Thành viên:\n",
    "1. 18120052 - Lê Hạnh Linh - linh0303052\n",
    "2. 1712568 - Kim Đình Lộc - kimdinhloc\n",
    "\n",
    "Link thùng chứa Github của nhóm: https://github.com/linh0303052/programming4DS"
   ]
  },
  {
   "cell_type": "markdown",
   "id": "dfdd61f3",
   "metadata": {},
   "source": [
    "---"
   ]
  },
  {
   "cell_type": "markdown",
   "id": "8c944106",
   "metadata": {},
   "source": [
    "## Mô tả dữ liệu và bài toán "
   ]
  },
  {
   "cell_type": "markdown",
   "id": "a966ad5f",
   "metadata": {},
   "source": [
    "Bộ dữ liệu về thông tin các chuyến taxi tại New York vào 6 tháng đầu năm 2016 dựa trên dữ liệu **[2016 NYC Yellow Cab trip record data](https://cloud.google.com/bigquery/public-data)** có sẵn trên BigQuery của Google Cloud Platform. Dữ liệu gốc được phát hành bởi NYC *Taxi and Limousine Commission (TLC)* và có sẵn trên trang [NYC TLC](https://www1.nyc.gov/site/tlc/about/tlc-trip-record-data.page) . Tập dữ liệu đã được lấy mẫu (sample) và tiền xử lý dành cho cuộc thi **[New York City Taxi Trip Duration](https://www.kaggle.com/c/nyc-taxi-trip-duration/overview)** trên Kaggle.\n",
    "\n",
    "Vì việc khám phá và tiền xử lý một tập dữ liệu bị ảnh hưởng bởi bài toán cần giải quyết trên tập dữ liệu đó nên nhóm chọn bài toán *New York City Taxi Trip Duration* để có cơ sở thực hiện khám phá và tiền xử lý hơn.\n",
    "\n",
    "Cuộc thi *New York City Taxi Trip Duration* đặt ra bài toán dự đoán tổng thời gian của một chuyến taxi ở thành phố New York (Mỹ) dựa vào các thông tin như tọa độ điểm đón và trả khách, thời gian đón khách, số lượng hành khách.\n",
    "\n",
    "**Input:** Dữ liệu gồm 9 thuộc tính của một chuyến taxi (id, vendor_id, pickup_datetime, passenger_count, pickup_longitude, pickup_latitude, dropoff_longitude, dropoff_latitude, store_and_fwd_flag) \\\n",
    "**Output:** Tổng thời gian dự đoán của chuyến đó tính bằng giây.\n",
    "\n",
    "***Ghi chú***: Mặc dù tập test chỉ có 9 thuộc tính, tập train có 11 thuộc tính, trong đó 1 thuộc tính là target, còn lại 1 thuộc tính không có trong tập test là dropoff_datetime. Cuộc thi quyết định không loại cột này ra khỏi tập train để cung cấp tập mở rộng các biến và thí sinh sử dụng tùy ý trong quá trình làm việc."
   ]
  },
  {
   "cell_type": "markdown",
   "id": "18ae07b5",
   "metadata": {},
   "source": [
    "---"
   ]
  },
  {
   "cell_type": "markdown",
   "id": "7dc658da",
   "metadata": {},
   "source": [
    "## Import các thư viện cần thiết"
   ]
  },
  {
   "cell_type": "code",
   "execution_count": 72,
   "id": "a4d5cc44",
   "metadata": {},
   "outputs": [],
   "source": [
    "# Bỏ comment để cài đặt thư viện folium\n",
    "# !conda install -c conda-forge folium=0.5.0 --yes\n",
    "# !pip install geopy\n",
    "# !pip install seaborn"
   ]
  },
  {
   "cell_type": "code",
   "execution_count": 75,
   "id": "cf0757b5",
   "metadata": {},
   "outputs": [],
   "source": [
    "import pandas as pd\n",
    "import numpy as np\n",
    "import matplotlib.pyplot as plt\n",
    "import folium\n",
    "from folium import plugins\n",
    "import geopy.distance\n",
    "import seaborn as sns"
   ]
  },
  {
   "cell_type": "markdown",
   "id": "3bccfacd",
   "metadata": {},
   "source": [
    "## Thu thập dữ liệu"
   ]
  },
  {
   "cell_type": "markdown",
   "id": "2c7c8c28",
   "metadata": {},
   "source": [
    "---"
   ]
  },
  {
   "cell_type": "markdown",
   "id": "98e406f8",
   "metadata": {},
   "source": [
    "## Khám phá dữ liệu"
   ]
  },
  {
   "cell_type": "markdown",
   "id": "447fc1e5",
   "metadata": {},
   "source": [
    "### Đọc dữ liệu từ file csv vào dataframe"
   ]
  },
  {
   "cell_type": "code",
   "execution_count": 3,
   "id": "53dd2aa9",
   "metadata": {},
   "outputs": [
    {
     "data": {
      "text/html": [
       "<div>\n",
       "<style scoped>\n",
       "    .dataframe tbody tr th:only-of-type {\n",
       "        vertical-align: middle;\n",
       "    }\n",
       "\n",
       "    .dataframe tbody tr th {\n",
       "        vertical-align: top;\n",
       "    }\n",
       "\n",
       "    .dataframe thead th {\n",
       "        text-align: right;\n",
       "    }\n",
       "</style>\n",
       "<table border=\"1\" class=\"dataframe\">\n",
       "  <thead>\n",
       "    <tr style=\"text-align: right;\">\n",
       "      <th></th>\n",
       "      <th>id</th>\n",
       "      <th>vendor_id</th>\n",
       "      <th>pickup_datetime</th>\n",
       "      <th>dropoff_datetime</th>\n",
       "      <th>passenger_count</th>\n",
       "      <th>pickup_longitude</th>\n",
       "      <th>pickup_latitude</th>\n",
       "      <th>dropoff_longitude</th>\n",
       "      <th>dropoff_latitude</th>\n",
       "      <th>store_and_fwd_flag</th>\n",
       "      <th>trip_duration</th>\n",
       "    </tr>\n",
       "  </thead>\n",
       "  <tbody>\n",
       "    <tr>\n",
       "      <th>0</th>\n",
       "      <td>id2875421</td>\n",
       "      <td>2</td>\n",
       "      <td>2016-03-14 17:24:55</td>\n",
       "      <td>2016-03-14 17:32:30</td>\n",
       "      <td>1</td>\n",
       "      <td>-73.982155</td>\n",
       "      <td>40.767937</td>\n",
       "      <td>-73.964630</td>\n",
       "      <td>40.765602</td>\n",
       "      <td>N</td>\n",
       "      <td>455</td>\n",
       "    </tr>\n",
       "    <tr>\n",
       "      <th>1</th>\n",
       "      <td>id2377394</td>\n",
       "      <td>1</td>\n",
       "      <td>2016-06-12 00:43:35</td>\n",
       "      <td>2016-06-12 00:54:38</td>\n",
       "      <td>1</td>\n",
       "      <td>-73.980415</td>\n",
       "      <td>40.738564</td>\n",
       "      <td>-73.999481</td>\n",
       "      <td>40.731152</td>\n",
       "      <td>N</td>\n",
       "      <td>663</td>\n",
       "    </tr>\n",
       "    <tr>\n",
       "      <th>2</th>\n",
       "      <td>id3858529</td>\n",
       "      <td>2</td>\n",
       "      <td>2016-01-19 11:35:24</td>\n",
       "      <td>2016-01-19 12:10:48</td>\n",
       "      <td>1</td>\n",
       "      <td>-73.979027</td>\n",
       "      <td>40.763939</td>\n",
       "      <td>-74.005333</td>\n",
       "      <td>40.710087</td>\n",
       "      <td>N</td>\n",
       "      <td>2124</td>\n",
       "    </tr>\n",
       "    <tr>\n",
       "      <th>3</th>\n",
       "      <td>id3504673</td>\n",
       "      <td>2</td>\n",
       "      <td>2016-04-06 19:32:31</td>\n",
       "      <td>2016-04-06 19:39:40</td>\n",
       "      <td>1</td>\n",
       "      <td>-74.010040</td>\n",
       "      <td>40.719971</td>\n",
       "      <td>-74.012268</td>\n",
       "      <td>40.706718</td>\n",
       "      <td>N</td>\n",
       "      <td>429</td>\n",
       "    </tr>\n",
       "    <tr>\n",
       "      <th>4</th>\n",
       "      <td>id2181028</td>\n",
       "      <td>2</td>\n",
       "      <td>2016-03-26 13:30:55</td>\n",
       "      <td>2016-03-26 13:38:10</td>\n",
       "      <td>1</td>\n",
       "      <td>-73.973053</td>\n",
       "      <td>40.793209</td>\n",
       "      <td>-73.972923</td>\n",
       "      <td>40.782520</td>\n",
       "      <td>N</td>\n",
       "      <td>435</td>\n",
       "    </tr>\n",
       "  </tbody>\n",
       "</table>\n",
       "</div>"
      ],
      "text/plain": [
       "          id  vendor_id      pickup_datetime     dropoff_datetime  \\\n",
       "0  id2875421          2  2016-03-14 17:24:55  2016-03-14 17:32:30   \n",
       "1  id2377394          1  2016-06-12 00:43:35  2016-06-12 00:54:38   \n",
       "2  id3858529          2  2016-01-19 11:35:24  2016-01-19 12:10:48   \n",
       "3  id3504673          2  2016-04-06 19:32:31  2016-04-06 19:39:40   \n",
       "4  id2181028          2  2016-03-26 13:30:55  2016-03-26 13:38:10   \n",
       "\n",
       "   passenger_count  pickup_longitude  pickup_latitude  dropoff_longitude  \\\n",
       "0                1        -73.982155        40.767937         -73.964630   \n",
       "1                1        -73.980415        40.738564         -73.999481   \n",
       "2                1        -73.979027        40.763939         -74.005333   \n",
       "3                1        -74.010040        40.719971         -74.012268   \n",
       "4                1        -73.973053        40.793209         -73.972923   \n",
       "\n",
       "   dropoff_latitude store_and_fwd_flag  trip_duration  \n",
       "0         40.765602                  N            455  \n",
       "1         40.731152                  N            663  \n",
       "2         40.710087                  N           2124  \n",
       "3         40.706718                  N            429  \n",
       "4         40.782520                  N            435  "
      ]
     },
     "execution_count": 3,
     "metadata": {},
     "output_type": "execute_result"
    }
   ],
   "source": [
    "taxi_df = pd.read_csv('./data/train.csv')\n",
    "test = pd.read_csv('./data/test.csv')\n",
    "taxi_df.head()"
   ]
  },
  {
   "cell_type": "markdown",
   "id": "bce226e0",
   "metadata": {},
   "source": [
    "### Dữ liệu gồm có bao nhiêu dòng và bao nhiêu cột?"
   ]
  },
  {
   "cell_type": "code",
   "execution_count": 4,
   "id": "c91521bd",
   "metadata": {
    "deletable": false,
    "nbgrader": {
     "cell_type": "code",
     "checksum": "0a03dc9216c2e34b0151074d168e31a3",
     "grade": false,
     "grade_id": "cell-bc8810dbc4930a46",
     "locked": false,
     "schema_version": 3,
     "solution": true,
     "task": false
    }
   },
   "outputs": [
    {
     "name": "stdout",
     "output_type": "stream",
     "text": [
      "1458644 dòng \n",
      "11 cột\n"
     ]
    }
   ],
   "source": [
    "num_rows = taxi_df.shape[0]\n",
    "num_cols = taxi_df.shape[1]\n",
    "print('{} dòng \\n{} cột'.format(num_rows, num_cols))"
   ]
  },
  {
   "cell_type": "markdown",
   "id": "6d99f4c7",
   "metadata": {},
   "source": [
    "### Mỗi dòng có ý nghĩa gì? Có vấn đề các dòng có ý nghĩa khác nhau không?"
   ]
  },
  {
   "cell_type": "markdown",
   "id": "1d8af4ab",
   "metadata": {},
   "source": [
    "Mỗi dòng là một bản ghi của một chuyến taxi. Các thuộc tính có ý nghĩa như ở phần mô tả. Theo quan sát không có dòng nào bất thường."
   ]
  },
  {
   "cell_type": "code",
   "execution_count": 8,
   "id": "037b0aa7",
   "metadata": {},
   "outputs": [],
   "source": [
    "temp_array = [tuple(row) for row in taxi_df]\n",
    "uniques = np.unique(temp_array)\n",
    "have_duplicated_rows = uniques.shape[0] == num_rows"
   ]
  },
  {
   "cell_type": "markdown",
   "id": "8fafc9c5",
   "metadata": {},
   "source": [
    "### Dữ liệu có các dòng bị lặp không?"
   ]
  },
  {
   "cell_type": "code",
   "execution_count": 9,
   "id": "5f1a73de",
   "metadata": {},
   "outputs": [
    {
     "name": "stdout",
     "output_type": "stream",
     "text": [
      "Không có dữ liệu trùng\n"
     ]
    }
   ],
   "source": [
    "temp_array = [tuple(row) for row in taxi_df]\n",
    "uniques = np.unique(temp_array)\n",
    "have_duplicated_rows = uniques.shape[0] == num_rows\n",
    "if have_duplicated_rows:\n",
    "    print('Có dữ liệu trùng')\n",
    "else:\n",
    "    print('Không có dữ liệu trùng')"
   ]
  },
  {
   "cell_type": "code",
   "execution_count": 10,
   "id": "ced50630",
   "metadata": {},
   "outputs": [],
   "source": [
    "temp_array = [tuple(row) for row in taxi_df]\n",
    "uniques = np.unique(temp_array)\n",
    "have_duplicated_rows = uniques.shape[0] == num_rows"
   ]
  },
  {
   "cell_type": "markdown",
   "id": "ad64c781",
   "metadata": {},
   "source": [
    "### Mỗi cột có ý nghĩa gì?"
   ]
  },
  {
   "cell_type": "markdown",
   "id": "24e661f7",
   "metadata": {},
   "source": [
    "Tập dữ liệu huấn luyện đã xử lý gồm 11 cột, cột cuối cùng (trip_duration) là target: \\\n",
    "**id** - định danh duy nhất của mỗi chuyến \\\n",
    "**vendor_id** - mã của nhà cung cấp thông tin của mẫu này (vì thông tin không được thu thập và cung cấp bởi TLC mà được cung cấp bởi 2 nhà cung cấp khác nhau được đánh số là 1 và 2) \\\n",
    "**pickup_datetime** - ngày và giờ khi bắt đầu tính số mét \\\n",
    "**dropoff_datetime** - ngày và giờ khi kết thúc tính số mét \\\n",
    "**passenger_count** - số hành khách trên phương tiện (tài xế nhập thông tin này) \\\n",
    "**pickup_longitude** - kinh độ nơi bắt đầu tính số mét \\\n",
    "**pickup_latitude** - vĩ độ nơi bắt đầu tính số mét \\\n",
    "**dropoff_longitude** - kinh độ nơi kết thúc tính số mét \\\n",
    "**dropoff_latitude** - vĩ độ nơi kết thúc tính số mét \\\n",
    "**store_and_fwd_flag** - cờ đánh dấu 1 bản ghi có được ghi lại trong bộ nhớ của phương tiện trước khi được gửi đến cho nhà cung cấp không (điều này xảy ra vì phương tiện không có kết nối đến máy chủ khi di chuyển) \\\n",
    "**trip_duration** - thời gian của chuyến tính bằng giây"
   ]
  },
  {
   "cell_type": "markdown",
   "id": "1519b6da",
   "metadata": {},
   "source": [
    "### Mỗi cột hiện đang có kiểu dữ liệu gì? Có cột nào có kiểu dữ liệu chưa phù hợp để có thể xử lý tiếp không?"
   ]
  },
  {
   "cell_type": "code",
   "execution_count": 11,
   "id": "ad06026c",
   "metadata": {},
   "outputs": [
    {
     "name": "stdout",
     "output_type": "stream",
     "text": [
      "<class 'pandas.core.frame.DataFrame'>\n",
      "RangeIndex: 1458644 entries, 0 to 1458643\n",
      "Data columns (total 11 columns):\n",
      " #   Column              Non-Null Count    Dtype  \n",
      "---  ------              --------------    -----  \n",
      " 0   id                  1458644 non-null  object \n",
      " 1   vendor_id           1458644 non-null  int64  \n",
      " 2   pickup_datetime     1458644 non-null  object \n",
      " 3   dropoff_datetime    1458644 non-null  object \n",
      " 4   passenger_count     1458644 non-null  int64  \n",
      " 5   pickup_longitude    1458644 non-null  float64\n",
      " 6   pickup_latitude     1458644 non-null  float64\n",
      " 7   dropoff_longitude   1458644 non-null  float64\n",
      " 8   dropoff_latitude    1458644 non-null  float64\n",
      " 9   store_and_fwd_flag  1458644 non-null  object \n",
      " 10  trip_duration       1458644 non-null  int64  \n",
      "dtypes: float64(4), int64(3), object(4)\n",
      "memory usage: 122.4+ MB\n"
     ]
    }
   ],
   "source": [
    "taxi_df.info()"
   ]
  },
  {
   "cell_type": "markdown",
   "id": "df6ad008",
   "metadata": {},
   "source": [
    "Có 4 cột có kiểu dữ liệu object: *id, pickup_datetime, dropoff_datetime, store_and_fwd_flag*. Ta xem các kiểu dữ liệu có trong các cột này"
   ]
  },
  {
   "cell_type": "code",
   "execution_count": 12,
   "id": "86649f0d",
   "metadata": {},
   "outputs": [],
   "source": [
    "def open_object_dtype(s):\n",
    "    dtypes = set()\n",
    "    dtypes.update((s.apply(lambda ele: type(ele)).to_numpy()))\n",
    "    return dtypes"
   ]
  },
  {
   "cell_type": "code",
   "execution_count": 13,
   "id": "cc24b6f5",
   "metadata": {},
   "outputs": [
    {
     "name": "stdout",
     "output_type": "stream",
     "text": [
      "{<class 'str'>}\n",
      "{<class 'str'>}\n",
      "{<class 'str'>}\n",
      "{<class 'str'>}\n"
     ]
    }
   ],
   "source": [
    "print(open_object_dtype(taxi_df['id']))\n",
    "print(open_object_dtype(taxi_df['pickup_datetime']))\n",
    "print(open_object_dtype(taxi_df['dropoff_datetime']))\n",
    "print(open_object_dtype(taxi_df['store_and_fwd_flag']))"
   ]
  },
  {
   "cell_type": "markdown",
   "id": "84856d9a",
   "metadata": {},
   "source": [
    "Tất cả các cột này đều dạng *str*. \\\n",
    "Cột *id* đơn giản là chuỗi định danh bản ghi nên ta có thể giữ nguyên. \\\n",
    "Cột *pickup_datetime* và *dropoff_datetime* ta cần chuyển sang kiểu *datetime* để thuận tiện tính toán và lấy ra các giá trị ngày, tháng, giờ sau này. \\\n",
    "Cột *store_and_fwd_flag* là cờ đánh dấu chuyến đó có store and forward cho nhà cung cấp không. Nên ta sẽ chuyển cột này thành kiểu *bool*. \\\n",
    "\n",
    "Ngoài ra, cột *vendor_id* tuy mang kiểu dữ liệu int64 dạng numeric, nhưng ý nghĩa của cột này là dạng categorical do cột này "
   ]
  },
  {
   "cell_type": "markdown",
   "id": "40aca1a4",
   "metadata": {},
   "source": [
    "## Tiền xử lý"
   ]
  },
  {
   "cell_type": "markdown",
   "id": "6f3ff7bd",
   "metadata": {},
   "source": [
    "### Chuyển dtype của cột \"pickup_datetime\" và \"dropoff_datetime\" sang datetime"
   ]
  },
  {
   "cell_type": "code",
   "execution_count": 14,
   "id": "29fcac6c",
   "metadata": {},
   "outputs": [],
   "source": [
    "taxi_df['pickup_datetime'] = pd.to_datetime(taxi_df['pickup_datetime'], format='%Y-%m-%d %H:%M:%S')\n",
    "taxi_df['dropoff_datetime'] = pd.to_datetime(taxi_df['dropoff_datetime'], format='%Y-%m-%d %H:%M:%S')"
   ]
  },
  {
   "cell_type": "markdown",
   "id": "f914543e",
   "metadata": {},
   "source": [
    "### Chuyển dtype của cột \"store_and_fwd_flag\" sang bool"
   ]
  },
  {
   "cell_type": "code",
   "execution_count": 15,
   "id": "2e7569d0",
   "metadata": {},
   "outputs": [],
   "source": [
    "taxi_df['store_and_fwd_flag'] = taxi_df['store_and_fwd_flag'].apply(lambda ele: False if ele == 'N' else True)"
   ]
  },
  {
   "cell_type": "markdown",
   "id": "91689199",
   "metadata": {},
   "source": [
    "### Chuyển dtype của cột \"vendor_id\" sang str"
   ]
  },
  {
   "cell_type": "code",
   "execution_count": 16,
   "id": "e2449605",
   "metadata": {},
   "outputs": [],
   "source": [
    "taxi_df['vendor_id'] = taxi_df['vendor_id'].astype(str)"
   ]
  },
  {
   "cell_type": "markdown",
   "id": "6d14dc21",
   "metadata": {},
   "source": [
    "Kiểm tra lại các kiểu dữ liệu"
   ]
  },
  {
   "cell_type": "code",
   "execution_count": 17,
   "id": "939f7b35",
   "metadata": {},
   "outputs": [
    {
     "name": "stdout",
     "output_type": "stream",
     "text": [
      "<class 'pandas.core.frame.DataFrame'>\n",
      "RangeIndex: 1458644 entries, 0 to 1458643\n",
      "Data columns (total 11 columns):\n",
      " #   Column              Non-Null Count    Dtype         \n",
      "---  ------              --------------    -----         \n",
      " 0   id                  1458644 non-null  object        \n",
      " 1   vendor_id           1458644 non-null  object        \n",
      " 2   pickup_datetime     1458644 non-null  datetime64[ns]\n",
      " 3   dropoff_datetime    1458644 non-null  datetime64[ns]\n",
      " 4   passenger_count     1458644 non-null  int64         \n",
      " 5   pickup_longitude    1458644 non-null  float64       \n",
      " 6   pickup_latitude     1458644 non-null  float64       \n",
      " 7   dropoff_longitude   1458644 non-null  float64       \n",
      " 8   dropoff_latitude    1458644 non-null  float64       \n",
      " 9   store_and_fwd_flag  1458644 non-null  bool          \n",
      " 10  trip_duration       1458644 non-null  int64         \n",
      "dtypes: bool(1), datetime64[ns](2), float64(4), int64(2), object(2)\n",
      "memory usage: 112.7+ MB\n"
     ]
    }
   ],
   "source": [
    "taxi_df.info()"
   ]
  },
  {
   "cell_type": "markdown",
   "id": "b2b4521d",
   "metadata": {},
   "source": [
    "Các cột *vendor_id*, *pickup_datetime*, *dropoff_datetime* và *store_and_fwd_flag* đã được chuyển về đúng kiểu dữ liệu mong muốn."
   ]
  },
  {
   "cell_type": "markdown",
   "id": "162126bb",
   "metadata": {},
   "source": [
    "## Khám phá dữ liệu"
   ]
  },
  {
   "cell_type": "markdown",
   "id": "74fa1570",
   "metadata": {},
   "source": [
    "### Khảo sát về ngày giờ pickup taxi và drop off taxi"
   ]
  },
  {
   "cell_type": "markdown",
   "id": "5d2ba69e",
   "metadata": {},
   "source": [
    "**Chúng ta sẽ đặt ra một câu hỏi: \"Ngày  pickup taxi thường là ngày nào, thường tập trung vào khung giờ nào?\"**"
   ]
  },
  {
   "cell_type": "markdown",
   "id": "75d5dc62",
   "metadata": {},
   "source": [
    "Đầu tiên chúng ta phải biết được hành khách thường bắt taxi vào ngày nào?"
   ]
  },
  {
   "cell_type": "code",
   "execution_count": 214,
   "id": "89c66b70",
   "metadata": {},
   "outputs": [],
   "source": [
    "# pickup_datetime to weekday each month\n",
    "time_pickup = pd.DataFrame()\n",
    "time_pickup['Month'] = taxi_df['pickup_datetime'].dt.month\n",
    "time_pickup['Weekday'] = taxi_df['pickup_datetime'].dt.weekday\n",
    "time_pickup['Hour'] = taxi_df['pickup_datetime'].dt.hour\n",
    "time_pickup['Week'] = taxi_df['pickup_datetime'].dt.isocalendar().week"
   ]
  },
  {
   "cell_type": "code",
   "execution_count": 212,
   "id": "6d8fb11e",
   "metadata": {},
   "outputs": [
    {
     "data": {
      "text/plain": [
       "<AxesSubplot:>"
      ]
     },
     "execution_count": 212,
     "metadata": {},
     "output_type": "execute_result"
    },
    {
     "data": {
      "image/png": "[encoded data removed]",
      "text/plain": [
       "<Figure size 720x360 with 1 Axes>"
      ]
     },
     "metadata": {},
     "output_type": "display_data"
    }
   ],
   "source": [
    "# visualize Weekday and sort index\n",
    "time_pickup['Weekday'].value_counts().sort_index().plot(kind='line',figsize=(10,5))"
   ]
  },
  {
   "cell_type": "markdown",
   "id": "f4673eb0",
   "metadata": {},
   "source": [
    "0: Mon, 1: Tue, 2: Wed, 3: Thu, 4: Fri, 5: Sat, 6: Sun"
   ]
  },
  {
   "cell_type": "markdown",
   "id": "43a8c0ec",
   "metadata": {},
   "source": [
    "**Ngày thường xuyên pickup nhất**"
   ]
  },
  {
   "cell_type": "code",
   "execution_count": 244,
   "id": "7bbde42a",
   "metadata": {},
   "outputs": [
    {
     "data": {
      "text/plain": [
       "<AxesSubplot:title={'center':'Visualize Weekday'}, xlabel='Weekday'>"
      ]
     },
     "execution_count": 244,
     "metadata": {},
     "output_type": "execute_result"
    },
    {
     "data": {
      "image/png": "[encoded data removed]",
      "text/plain": [
       "<Figure size 720x360 with 1 Axes>"
      ]
     },
     "metadata": {},
     "output_type": "display_data"
    }
   ],
   "source": [
    "# visualize Weekday\n",
    "time_pickup.groupby(['Weekday']).size().plot(kind='bar', title='Visualize Weekday', figsize=(10, 5), legend=True)"
   ]
  },
  {
   "cell_type": "markdown",
   "id": "286eb292",
   "metadata": {},
   "source": [
    "Ta có thể thấy, thông thường thì ngày chủ nhật và thứ 2 có lượt pickup thấp, có thể do đó là ngày nghỉ và ngày đầu tuần nên nhiều người thường ít bắt taxi hơn. Tiếp theo chúng ta đi vào chi tiết với lượt pickup taxi mỗi ngày trong tuần trong mỗi tháng"
   ]
  },
  {
   "cell_type": "code",
   "execution_count": 234,
   "id": "70798e96",
   "metadata": {},
   "outputs": [
    {
     "data": {
      "text/plain": [
       "<AxesSubplot:title={'center':'Number of pickup'}, xlabel='Weekday', ylabel='Number of pickup'>"
      ]
     },
     "execution_count": 234,
     "metadata": {},
     "output_type": "execute_result"
    },
    {
     "data": {
      "image/png": "[encoded data removed]",
      "text/plain": [
       "<Figure size 720x360 with 1 Axes>"
      ]
     },
     "metadata": {},
     "output_type": "display_data"
    }
   ],
   "source": [
    "# visualize weekday vs Month and rename weekday \n",
    "time_pickup.groupby(['Weekday', 'Month']).size().unstack().plot(kind='line', title='Number of pickup', figsize=(10, 5), legend=True,ylabel='Number of pickup')"
   ]
  },
  {
   "cell_type": "markdown",
   "id": "e6bfcb3b",
   "metadata": {},
   "source": [
    "Cũng giống như phía trên thì lượt pickup bắt đầu tăng vào ngày thứ 2 và giảm dần vào ngày cuối tuần"
   ]
  },
  {
   "cell_type": "markdown",
   "id": "117d169d",
   "metadata": {},
   "source": [
    "Tiếp theo chúng ta visual các lượt pickup taxi trong mỗi tuần, chúng ta sẽ bỏ đi tuần đầu tiên và cuối cùng do 2 tuần đó không đủ ngày"
   ]
  },
  {
   "cell_type": "code",
   "execution_count": 243,
   "id": "061c3d15",
   "metadata": {},
   "outputs": [
    {
     "data": {
      "text/plain": [
       "<AxesSubplot:title={'center':'Visualize number pickup per week'}, xlabel='Week', ylabel='Number of pickup'>"
      ]
     },
     "execution_count": 243,
     "metadata": {},
     "output_type": "execute_result"
    },
    {
     "data": {
      "image/png": "[encoded data removed]",
      "text/plain": [
       "<Figure size 720x360 with 1 Axes>"
      ]
     },
     "metadata": {},
     "output_type": "display_data"
    }
   ],
   "source": [
    "# visualize week and remove index=26,53\n",
    "time_pickup.Week.value_counts().sort_index().drop([53,26]).plot(kind='line', title='Visualize number pickup per week', figsize=(10, 5),\n",
    "xlabel='Week',ylabel='Number of pickup', legend=True, xticks=time_pickup.Week.value_counts().sort_index().drop([53,26]).index)"
   ]
  },
  {
   "cell_type": "markdown",
   "id": "2ee7ff09",
   "metadata": {},
   "source": [
    "Ta thấy rằng tuần thứ 3 có lượt pickup sụt giảm đáng kể. Khi ta tra cứu thì phát hiện ra rẳng, trong tuần thứ 3 có 1 ngày lễ mừng ngày sinh của Martin Luther King. Tương tự với tuần 3 là tuần 21,22 với các ngày ngày lễ."
   ]
  },
  {
   "cell_type": "markdown",
   "id": "ec009783",
   "metadata": {},
   "source": [
    "Vậy chúng ta đã có thể trả lời 1 phần câu hỏi là: Thông thường hành khách sẽ pickup taxi thấp ở ngày đầu tuần(tức thứ 2), tăng dần vào những ngày trong tuần và giảm xuống thấp vào ngày nghỉ cuối tuần(Chủ nhật) hoặc những ngày lễ."
   ]
  },
  {
   "cell_type": "markdown",
   "id": "2efb1919",
   "metadata": {},
   "source": [
    "**Các khung giờ thường pickup**"
   ]
  },
  {
   "cell_type": "code",
   "execution_count": 248,
   "id": "d2649bb4",
   "metadata": {},
   "outputs": [
    {
     "data": {
      "text/plain": [
       "<AxesSubplot:title={'center':'Visualize number pickup per hour'}, xlabel='Hour', ylabel='Number of pickup'>"
      ]
     },
     "execution_count": 248,
     "metadata": {},
     "output_type": "execute_result"
    },
    {
     "data": {
      "image/png": "[encoded data removed]",
      "text/plain": [
       "<Figure size 720x360 with 1 Axes>"
      ]
     },
     "metadata": {},
     "output_type": "display_data"
    }
   ],
   "source": [
    "# visualize hour\n",
    "time_pickup.groupby(['Hour']).size().plot(kind='line', title='Visualize number pickup per hour', figsize=(10, 5), legend=True,ylabel='Number of pickup')"
   ]
  },
  {
   "cell_type": "markdown",
   "id": "cfa51f02",
   "metadata": {},
   "source": [
    "### Với mỗi cột có kiểu dữ liệu dạng numeric, các giá trị được phân bố như thế nào?"
   ]
  },
  {
   "cell_type": "markdown",
   "id": "9a56bb07",
   "metadata": {},
   "source": [
    "Cột *vendor_id* có kiểu dữ liệu dạng numberic nhưng thực ra mang ý nghĩa là dạng categorical. Do 1 là từ nhà cung cấp 1 và 2 là nhà cung cấp 2. Nên ta sẽ khảo sát cột *vendor_id* ở phần sau."
   ]
  },
  {
   "cell_type": "code",
   "execution_count": 18,
   "id": "779d151b",
   "metadata": {},
   "outputs": [],
   "source": [
    "nume_col_df = taxi_df[[\"passenger_count\", \"pickup_datetime\", \"dropoff_datetime\",\"pickup_latitude\", \"pickup_longitude\", \"dropoff_latitude\", \\\n",
    "                      \"dropoff_longitude\", \"trip_duration\"]]"
   ]
  },
  {
   "cell_type": "code",
   "execution_count": 19,
   "id": "e86bf1a0",
   "metadata": {},
   "outputs": [],
   "source": [
    "def missing_ratio(s):\n",
    "    return s.isna().mean() * 100"
   ]
  },
  {
   "cell_type": "code",
   "execution_count": 20,
   "id": "ec10ebc7",
   "metadata": {},
   "outputs": [
    {
     "data": {
      "text/html": [
       "<div>\n",
       "<style scoped>\n",
       "    .dataframe tbody tr th:only-of-type {\n",
       "        vertical-align: middle;\n",
       "    }\n",
       "\n",
       "    .dataframe tbody tr th {\n",
       "        vertical-align: top;\n",
       "    }\n",
       "\n",
       "    .dataframe thead th {\n",
       "        text-align: right;\n",
       "    }\n",
       "</style>\n",
       "<table border=\"1\" class=\"dataframe\">\n",
       "  <thead>\n",
       "    <tr style=\"text-align: right;\">\n",
       "      <th></th>\n",
       "      <th>passenger_count</th>\n",
       "      <th>pickup_datetime</th>\n",
       "      <th>dropoff_datetime</th>\n",
       "      <th>pickup_latitude</th>\n",
       "      <th>pickup_longitude</th>\n",
       "      <th>dropoff_latitude</th>\n",
       "      <th>dropoff_longitude</th>\n",
       "      <th>trip_duration</th>\n",
       "    </tr>\n",
       "  </thead>\n",
       "  <tbody>\n",
       "    <tr>\n",
       "      <th>missing_ratio</th>\n",
       "      <td>0.0</td>\n",
       "      <td>0.0</td>\n",
       "      <td>0.0</td>\n",
       "      <td>0.000000</td>\n",
       "      <td>0.000000</td>\n",
       "      <td>0.000000</td>\n",
       "      <td>0.000000</td>\n",
       "      <td>0.0</td>\n",
       "    </tr>\n",
       "    <tr>\n",
       "      <th>min</th>\n",
       "      <td>0.0</td>\n",
       "      <td>2016-01-01 00:00:17</td>\n",
       "      <td>2016-01-01 00:03:31</td>\n",
       "      <td>34.359695</td>\n",
       "      <td>-121.933342</td>\n",
       "      <td>32.181141</td>\n",
       "      <td>-121.933304</td>\n",
       "      <td>1.0</td>\n",
       "    </tr>\n",
       "    <tr>\n",
       "      <th>max</th>\n",
       "      <td>9.0</td>\n",
       "      <td>2016-06-30 23:59:39</td>\n",
       "      <td>2016-07-01 23:02:03</td>\n",
       "      <td>51.881084</td>\n",
       "      <td>-61.335529</td>\n",
       "      <td>43.921028</td>\n",
       "      <td>-61.335529</td>\n",
       "      <td>3526282.0</td>\n",
       "    </tr>\n",
       "  </tbody>\n",
       "</table>\n",
       "</div>"
      ],
      "text/plain": [
       "               passenger_count      pickup_datetime     dropoff_datetime  \\\n",
       "missing_ratio              0.0                  0.0                  0.0   \n",
       "min                        0.0  2016-01-01 00:00:17  2016-01-01 00:03:31   \n",
       "max                        9.0  2016-06-30 23:59:39  2016-07-01 23:02:03   \n",
       "\n",
       "               pickup_latitude  pickup_longitude  dropoff_latitude  \\\n",
       "missing_ratio         0.000000          0.000000          0.000000   \n",
       "min                  34.359695       -121.933342         32.181141   \n",
       "max                  51.881084        -61.335529         43.921028   \n",
       "\n",
       "               dropoff_longitude  trip_duration  \n",
       "missing_ratio           0.000000            0.0  \n",
       "min                  -121.933304            1.0  \n",
       "max                   -61.335529      3526282.0  "
      ]
     },
     "execution_count": 20,
     "metadata": {},
     "output_type": "execute_result"
    }
   ],
   "source": [
    "nume_col_df = nume_col_df.agg([missing_ratio, min, max]);\n",
    "nume_col_df"
   ]
  },
  {
   "cell_type": "markdown",
   "id": "941c6e1b",
   "metadata": {},
   "source": [
    "May mắn, ta không có dữ liệu thiếu nào, có lẽ vì dữ liệu được ban tổ chức cuộc thi xử lý trước đó. \\\n",
    "Tuy nhiên nhìn vào min cột *passenger_count* có một chút bất thường do có chuyến mà không có người nào. Và 9 người cho một chuyến taxi thì hơi nhiều. \\\n",
    "min max của *trip_duration* cũng có một chút kỳ lạ, vì một chuyến chỉ đi dài 1s? Chuyến dài nhất dài 3526282s hơn 40 ngày?"
   ]
  },
  {
   "cell_type": "markdown",
   "id": "e1f5d5e2",
   "metadata": {},
   "source": [
    "#### Khảo sát cột \"passenger_count\"\n",
    "Trước tiên xem phân bố và đếm số lượng các giá trị"
   ]
  },
  {
   "cell_type": "code",
   "execution_count": 21,
   "id": "ba2d01a8",
   "metadata": {},
   "outputs": [
    {
     "data": {
      "text/plain": [
       "Text(0, 0.5, 'count')"
      ]
     },
     "execution_count": 21,
     "metadata": {},
     "output_type": "execute_result"
    },
    {
     "data": {
      "image/png": "[encoded data removed]",
      "text/plain": [
       "<Figure size 432x288 with 1 Axes>"
      ]
     },
     "metadata": {
      "needs_background": "light"
     },
     "output_type": "display_data"
    }
   ],
   "source": [
    "plt.hist(taxi_df['passenger_count'])\n",
    "plt.xlabel('passenger_count')\n",
    "plt.ylabel('count')"
   ]
  },
  {
   "cell_type": "code",
   "execution_count": 22,
   "id": "0fb24885",
   "metadata": {},
   "outputs": [
    {
     "data": {
      "text/plain": [
       "1    1033540\n",
       "2     210318\n",
       "5      78088\n",
       "3      59896\n",
       "6      48333\n",
       "4      28404\n",
       "0         60\n",
       "7          3\n",
       "9          1\n",
       "8          1\n",
       "Name: passenger_count, dtype: int64"
      ]
     },
     "execution_count": 22,
     "metadata": {},
     "output_type": "execute_result"
    }
   ],
   "source": [
    "taxi_df['passenger_count'].value_counts()"
   ]
  },
  {
   "cell_type": "markdown",
   "id": "f93fb6ae",
   "metadata": {},
   "source": [
    "Đa số các chuyến chỉ có 1 hoặc 2 hành khách. Các chuyến có 7, 8, 9 hành khách rất ít nên ta sẽ bỏ các dòng này. Có 60 chuyến có số hành khách là 0 có thể do lỗi nhập hoặc do tài xế nhập đại số 0 để hoàn thành việc nhập dữ liệu. Ta cũng sẽ loại các chuyến này."
   ]
  },
  {
   "cell_type": "markdown",
   "id": "31dbd06f",
   "metadata": {},
   "source": [
    "#### Khảo sát cột \"trip_duration\"\n",
    "Xem phân bố của trip_duration"
   ]
  },
  {
   "cell_type": "code",
   "execution_count": 23,
   "id": "2d3cb169",
   "metadata": {},
   "outputs": [
    {
     "data": {
      "text/plain": [
       "978383     3526282\n",
       "924150     2227612\n",
       "680594     2049578\n",
       "355003     1939736\n",
       "1234291      86392\n",
       "295382       86391\n",
       "73816        86390\n",
       "59891        86387\n",
       "1360439      86385\n",
       "753765       86379\n",
       "Name: trip_duration, dtype: int64"
      ]
     },
     "execution_count": 23,
     "metadata": {},
     "output_type": "execute_result"
    }
   ],
   "source": [
    "taxi_df[\"trip_duration\"].sort_values(ascending=False)[:10]"
   ]
  },
  {
   "cell_type": "markdown",
   "id": "4d606721",
   "metadata": {},
   "source": [
    "Có 4 chuyến có thời lượng dài bất thường. Ta sẽ loại các dòng này ra. Tuy nhiên, các dòng còn lại với thời gian khoảng 86300 giây là gần một ngày (một ngày dài 86400 giây). Ta sẽ xem thử phân bố của *trip_duration* ở khoảng từ 10-24 tiếng."
   ]
  },
  {
   "cell_type": "code",
   "execution_count": 24,
   "id": "f151252e",
   "metadata": {},
   "outputs": [
    {
     "data": {
      "text/plain": [
       "Text(0, 0.5, 'count')"
      ]
     },
     "execution_count": 24,
     "metadata": {},
     "output_type": "execute_result"
    },
    {
     "data": {
      "image/png": "[encoded data removed]",
      "text/plain": [
       "<Figure size 432x288 with 1 Axes>"
      ]
     },
     "metadata": {
      "needs_background": "light"
     },
     "output_type": "display_data"
    }
   ],
   "source": [
    "plt.hist(taxi_df['trip_duration'], range=(36000, 86400))\n",
    "plt.xlabel('trip_duration (second)')\n",
    "plt.ylabel('count')"
   ]
  },
  {
   "cell_type": "markdown",
   "id": "faff52e6",
   "metadata": {},
   "source": [
    "Khoảng từ 81360s đến 86400s có 1871 chuyến, nhiều bất thường nên ta sẽ bỏ các chuyến này. \\\n",
    "Ngoài các chuyến quá dài, cũng có những chuyến có khoảng thời gian rất ngắn. ta thử xem phân bố của các chuyến ít hơn 200s."
   ]
  },
  {
   "cell_type": "code",
   "execution_count": 25,
   "id": "20808759",
   "metadata": {},
   "outputs": [
    {
     "data": {
      "text/plain": [
       "Text(0, 0.5, 'count')"
      ]
     },
     "execution_count": 25,
     "metadata": {},
     "output_type": "execute_result"
    },
    {
     "data": {
      "image/png": "[encoded data removed]",
      "text/plain": [
       "<Figure size 432x288 with 1 Axes>"
      ]
     },
     "metadata": {
      "needs_background": "light"
     },
     "output_type": "display_data"
    }
   ],
   "source": [
    "plt.hist(taxi_df[taxi_df[\"trip_duration\"] < 200]['trip_duration'])\n",
    "plt.xlabel('trip_duration (second)')\n",
    "plt.ylabel('count')"
   ]
  },
  {
   "cell_type": "markdown",
   "id": "282538fd",
   "metadata": {},
   "source": [
    "Có 3616 chuyến ít hơn 20s. Ta thử tính khoảng cách giữa điểm đón và điểm nhận dựa vào tọa độ để xem mức độ hợp lý của các chuyến này."
   ]
  },
  {
   "cell_type": "code",
   "execution_count": 26,
   "id": "90ba8fd3",
   "metadata": {},
   "outputs": [
    {
     "data": {
      "text/plain": [
       "Text(0, 0.5, 'count')"
      ]
     },
     "execution_count": 26,
     "metadata": {},
     "output_type": "execute_result"
    },
    {
     "data": {
      "image/png": "[encoded data removed]",
      "text/plain": [
       "<Figure size 432x288 with 1 Axes>"
      ]
     },
     "metadata": {
      "needs_background": "light"
     },
     "output_type": "display_data"
    }
   ],
   "source": [
    "very_short_trips = taxi_df[taxi_df[\"trip_duration\"] < 20]\n",
    "pickup_coords = [(lat, lng) for lat, lng in zip(very_short_trips['pickup_latitude'], very_short_trips['pickup_longitude'])]\n",
    "dropoff_coords = [(lat, lng) for lat, lng in zip(very_short_trips['dropoff_latitude'], very_short_trips['dropoff_longitude'])]\n",
    "distances = [geopy.distance.distance(pu_coord, do_coord).km for pu_coord, do_coord in zip(pickup_coords, dropoff_coords)]\n",
    "plt.hist(distances, range=(0, 1.80436312))\n",
    "plt.xlabel('distance (km)')\n",
    "plt.ylabel('count')"
   ]
  },
  {
   "cell_type": "markdown",
   "id": "1d3ceaab",
   "metadata": {},
   "source": [
    "Đa số các chuyến có *trip_duration* ngắn đều đi khoảng cách nhỏ hơn 1km. Điều này cũng khá hợp lý vì có người đặt chuyến rồi hủy, hoặc hành khách đã lên xe nhưng đổi ý. Nhưng ta có nên xem đây là một chuyến để huấn luyện không?"
   ]
  },
  {
   "cell_type": "markdown",
   "id": "4d708be4",
   "metadata": {},
   "source": [
    "#### Khảo sát các cột tọa độ \"pickup_latitude\", \"pickup_longitude\", \"dropoff_latitude\" và \"dropoff_longitude\""
   ]
  },
  {
   "cell_type": "code",
   "execution_count": 27,
   "id": "fce86d61",
   "metadata": {},
   "outputs": [
    {
     "data": {
      "text/plain": [
       "Text(0.5, 0, 'dropoff_longitude')"
      ]
     },
     "execution_count": 27,
     "metadata": {},
     "output_type": "execute_result"
    },
    {
     "data": {
      "image/png": "[encoded data removed]",
      "text/plain": [
       "<Figure size 1152x576 with 4 Axes>"
      ]
     },
     "metadata": {
      "needs_background": "light"
     },
     "output_type": "display_data"
    }
   ],
   "source": [
    "fig, axs = plt.subplots(2, 2, sharex='col', sharey='col', figsize=(16,8))\n",
    "fig.figsize = (16, 8)\n",
    "axs[0, 0].hist(taxi_df['pickup_latitude'], range=(40.66739548, 40.87765215), bins=50)\n",
    "axs[0, 1].hist(taxi_df['pickup_longitude'], range=(-74.06106198, -73.7580731), bins=50)\n",
    "axs[1, 0].hist(taxi_df['dropoff_latitude'], range=(40.66739548, 40.87765215), bins=50, color='red')\n",
    "axs[1, 1].hist(taxi_df['dropoff_longitude'], range=(-74.06106198, -73.7580731), bins=50, color='red')\n",
    "axs[0, 0].set_xlabel('pickup_latitude')\n",
    "axs[0, 1].set_xlabel('pickup_longitude')\n",
    "axs[1, 0].set_xlabel('dropoff_latitude')\n",
    "axs[1, 1].set_xlabel('dropoff_longitude')"
   ]
  },
  {
   "cell_type": "markdown",
   "id": "73235e2d",
   "metadata": {},
   "source": [
    "Ta thấy đa số các chuyến tập trung tại một khu vực, được xe như trung tâm. Trên thực tế đây là quận Manhattan. Tuy nhiên, trên đồ thị kinh độ, có 2 nơi cũng có số chuyến khá nhiều. Ta sẽ khám phá phần này ở phần trả lời câu hỏi."
   ]
  },
  {
   "cell_type": "markdown",
   "id": "ccce8a2d",
   "metadata": {},
   "source": [
    "Tiếp theo, thử xem các chuyến có điểm đón trùng với điểm trả khách."
   ]
  },
  {
   "cell_type": "code",
   "execution_count": 28,
   "id": "1bac9838",
   "metadata": {},
   "outputs": [
    {
     "data": {
      "text/plain": [
       "5897"
      ]
     },
     "execution_count": 28,
     "metadata": {},
     "output_type": "execute_result"
    }
   ],
   "source": [
    "zero_distance_trips = taxi_df[(taxi_df['pickup_latitude'] == taxi_df['dropoff_latitude']) & \\\n",
    "        (taxi_df['pickup_longitude'] == taxi_df['dropoff_longitude'])]\n",
    "zero_distance_trips.shape[0]"
   ]
  },
  {
   "cell_type": "markdown",
   "id": "b5b92582",
   "metadata": {},
   "source": [
    "Xem *trip_duration* của các chuyến này"
   ]
  },
  {
   "cell_type": "code",
   "execution_count": 29,
   "id": "57ef89b4",
   "metadata": {},
   "outputs": [
    {
     "data": {
      "text/plain": [
       "(array([2222.,  981.,  828.,  599.,  433.,  248.,  207.,  121.,   71.,\n",
       "          53.]),\n",
       " array([1.0000e+00, 2.0090e+02, 4.0080e+02, 6.0070e+02, 8.0060e+02,\n",
       "        1.0005e+03, 1.2004e+03, 1.4003e+03, 1.6002e+03, 1.8001e+03,\n",
       "        2.0000e+03]),\n",
       " <BarContainer object of 10 artists>)"
      ]
     },
     "execution_count": 29,
     "metadata": {},
     "output_type": "execute_result"
    },
    {
     "data": {
      "image/png": "[encoded data removed]",
      "text/plain": [
       "<Figure size 432x288 with 1 Axes>"
      ]
     },
     "metadata": {
      "needs_background": "light"
     },
     "output_type": "display_data"
    }
   ],
   "source": [
    "plt.hist(zero_distance_trips['trip_duration'], range=(1, 2000))"
   ]
  },
  {
   "cell_type": "markdown",
   "id": "8fdcb10a",
   "metadata": {},
   "source": [
    "Có hơn 27% các chuyến không di chuyển có thời gian dưới 1 phút. Điều này có vẻ hợp lý vì hành khách lên xe khi xe chưa chạy thì đổi ý hoặc tài xế đứng đợi nhưng hủy chuyến. Ta sẽ bỏ các chuyến không di chuyển mà có duration lớn hơn 1 phút, và giữ lại các chuyến khoảng cách là 0 và nhỏ hơn một phút. Ta không nên xóa hết các chuyến không di chuyển này, có thể trong tập test sẽ có các chuyến tương tự như thế (vì trong tập test ta được cung cấp điểm đón và trả khách)."
   ]
  },
  {
   "cell_type": "markdown",
   "id": "8158cba6",
   "metadata": {},
   "source": [
    "## Tiền xử lý (tiếp theo)"
   ]
  },
  {
   "cell_type": "code",
   "execution_count": 30,
   "id": "0b46aaa9",
   "metadata": {},
   "outputs": [],
   "source": [
    "#Xóa các chuyến có passenger_count = 0, 7, 8, 9\n",
    "taxi_df.drop(taxi_df[taxi_df['passenger_count'].isin([0, 7, 8, 9])].index, inplace = True)"
   ]
  },
  {
   "cell_type": "code",
   "execution_count": 31,
   "id": "55282325",
   "metadata": {},
   "outputs": [],
   "source": [
    "#Xóa các chuyến có thời gian lớn hơn 81360s\n",
    "taxi_df.drop(taxi_df[taxi_df['trip_duration'] > 81360].index, inplace = True)"
   ]
  }
 ],
 "metadata": {
  "kernelspec": {
   "display_name": "Python 3 (ipykernel)",
   "language": "python",
   "name": "python3"
  },
  "language_info": {
   "codemirror_mode": {
    "name": "ipython",
    "version": 3
   },
   "file_extension": ".py",
   "mimetype": "text/x-python",
   "name": "python",
   "nbconvert_exporter": "python",
   "pygments_lexer": "ipython3",
   "version": "3.8.8"
  }
 },
 "nbformat": 4,
 "nbformat_minor": 5
}
